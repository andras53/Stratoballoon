{
 "cells": [
  {
   "cell_type": "code",
   "execution_count": 93,
   "id": "3e7fbd3c",
   "metadata": {},
   "outputs": [],
   "source": [
    "import gmaps # google maps API\n",
    "from Adafruit_IO import Client \n",
    "import pandas\n",
    "import time\n",
    "import operator\n",
    "import ipywidgets as widgets\n",
    "from ipywidgets.embed import embed_minimal_html"
   ]
  },
  {
   "cell_type": "code",
   "execution_count": 94,
   "id": "16ce1810",
   "metadata": {},
   "outputs": [],
   "source": [
    "# USE HERE YOUR OWN KEY !!!\n",
    "API_KEY = \"AI...\"\n",
    "gmaps.configure(api_key=API_KEY)\n",
    "\n",
    "# Adafruit client to update data\n",
    "aio = Client(username='jozsamate',key='aio_...')"
   ]
  },
  {
   "cell_type": "code",
   "execution_count": null,
   "id": "01a9ad30",
   "metadata": {
    "scrolled": true
   },
   "outputs": [
    {
     "data": {
      "application/vnd.jupyter.widget-view+json": {
       "model_id": "3266744053f54818b88bf808c9776b0c",
       "version_major": 2,
       "version_minor": 0
      },
      "text/plain": [
       "HTML(value='<ul><li>Number of data: </li><li>Latitude: </li><li>Longitude: </li><li>Altitude: </li><li>Speed: …"
      ]
     },
     "metadata": {},
     "output_type": "display_data"
    },
    {
     "data": {
      "application/vnd.jupyter.widget-view+json": {
       "model_id": "ce036b96dfd0461890ff9ec8ac0e4665",
       "version_major": 2,
       "version_minor": 0
      },
      "text/plain": [
       "Figure(layout=FigureLayout(height='420px', margin='0 auto 0 auto', width='500px'))"
      ]
     },
     "metadata": {},
     "output_type": "display_data"
    }
   ],
   "source": [
    "# We start here the experiment\n",
    "start_coordinate = (46.767, 23.589)\n",
    "\n",
    "prev=[0,46.7,23.6,372.3,0.0,97000,12,58.0]\n",
    "def parse_data(data,old_df):\n",
    "    global prev\n",
    "    pres=0\n",
    "    temp=0\n",
    "    rh=0\n",
    "    for k in range(len(data)):\n",
    "        d = data[k].value\n",
    "        dl = d.split(\"\\n\") \n",
    "        for i in range(len(dl)):\n",
    "            if \"BMP280\" in dl[i]:\n",
    "                s=dl[i]\n",
    "                pres=(float(s.split(\"p=\")[1].split(\",\")[0])+float(s.split(\"p=\")[2].split(\",\")[0])+float(s.split(\"p=\")[3]))/3\n",
    "                if abs(prev[5]-pres) <10000.0:\n",
    "                    prev[5]=pres\n",
    "            if \"DS18B20\" in dl[i]:\n",
    "                s=dl[i]\n",
    "                temp=(float(s.split(\"T=\")[1].split(\",\")[0])+float(s.split(\"T=\")[2].split(\",\")[0])+float(s.split(\"T=\")[3].split(\",\")[0])+float(s.split(\"T=\")[4].split(\",\")[0])+float(s.split(\"T=\")[6].split(\",\")[0])+float(s.split(\"T=\")[7]))/6\n",
    "                if abs(prev[6]-temp)<5.0:\n",
    "                    prev[6]=temp\n",
    "            if \"RH\" in dl[i]:\n",
    "                s=dl[i]\n",
    "                rh=(float(s.split(\"RH=\")[1].split(\",\")[0])+float(s.split(\"RH=\")[2].split(\",\")[0])+float(s.split(\"RH=\")[3]))/3\n",
    "                if abs(prev[7]-rh)<10.0:\n",
    "                    prev[7]=rh\n",
    "            if \"NEO8\" in dl[i]: \n",
    "                s = dl[i]\n",
    "                vals=[float(s.split(\"t= \")[1].split(\" m\")[0]),float(s.split(\"Lati=\")[1].split(\",\")[0]),float(s.split(\"Longi=\")[1].split(\",\")[0]),float(s.split(\"Altitude=\")[1].split(\",\")[0]),float(s.split(\"Speed=\")[1]),prev[5],prev[6],prev[7]]\n",
    "                if abs(vals[1]-prev[1])<0.5 and abs(vals[2]-prev[2])<0.5 and abs(vals[3]-prev[3])<100.0: \n",
    "                    df1=pandas.DataFrame([vals],columns=[\"time\",\"latitude\",\"longitude\",\"altitude\",\"speed\",\"pressure\",\"temperature\",\"relative_humidity\"]) \n",
    "                    old_df=pandas.concat([old_df, df1]).drop_duplicates(subset=[\"time\", \"latitude\",\"longitude\",\"altitude\"])\n",
    "                    old_df = old_df.reset_index(drop=True)\n",
    "                    prev=vals\n",
    "    return old_df\n",
    "\n",
    "class coordinate_updater(object):\n",
    "    \n",
    "    def __init__(self, start_coordinate):\n",
    "        # Initialize starting/ending coordinates, dataframe of all coords., the drawing layer\n",
    "        self._start_coordinate = start_coordinate\n",
    "        self._end_coordinate = start_coordinate\n",
    "        self._df = pandas.DataFrame(columns=[\"time\",\"latitude\",\"longitude\",\"altitude\",\"speed\",\"pressure\",\"temperature\",\"relative_humidity\"])\n",
    "        self._coordinates_layer = gmaps.drawing_layer()\n",
    "        # We start from this point updating from dataframe\n",
    "        self._start_point = 0\n",
    "        # Initialize the map\n",
    "        fig = gmaps.figure(layout={'width': '500px','margin': '0 auto 0 auto'}, \n",
    "                           center=self._start_coordinate,\n",
    "                           zoom_level=16)\n",
    "        fig.add_layer(self._coordinates_layer)\n",
    "        self._container = fig\n",
    "\n",
    "    def render(self):\n",
    "        # Display the map\n",
    "        display(self._container)\n",
    "    \n",
    "    def _create_coordinate_layer(self):\n",
    "        # Draw lines between consecutive coordinate points in the dataframe\n",
    "        # Draw only the missing part\n",
    "        all_lines = []\n",
    "        end_coordinate = self._end_coordinate\n",
    "        for i in range(self._start_point, len(self._df)-1):\n",
    "            start_coordinate = (self._df.loc[i]['latitude'], self._df.loc[i]['longitude'])\n",
    "            end_coordinate = (self._df.loc[i+1]['latitude'], self._df.loc[i+1]['longitude'])\n",
    "            all_lines.append(gmaps.Line(start=start_coordinate, \n",
    "                                        end=end_coordinate, \n",
    "                                        stroke_weight=5.0, \n",
    "                                        stroke_color='blue'))\n",
    "        self._coordinates_layer.features = self._coordinates_layer.features + all_lines\n",
    "        self._coordinates_layer.features = self._coordinates_layer.features[-100:]\n",
    "        self._start_point = len(self._df)-1\n",
    "        self._end_coordinate = end_coordinate\n",
    "    \n",
    "    def load_coordinates(self, feed_name):\n",
    "        # Load new coordinates from file and update on map.\n",
    "        # Update last values in text holder       \n",
    "        self._df = parse_data(aio.data(feed_name, max_results=100), self._df)\n",
    "        text_panel.value = (text_panel.value).split(\"Number of data: \")[0] + \"Number of data: \" + str(len(self._df)) + \"</li><li>Latitude: \" + (text_panel.value).split(\"</li><li>Latitude: \")[1]\n",
    "        text_panel.value = (text_panel.value).split(\"Latitude: \")[0] + \"Latitude: \" + str(round((self._df).iloc[[len(self._df)-1]][\"latitude\"].values[0], 4)) + \"</li><li>Longitude: \" + (text_panel.value).split(\"</li><li>Longitude: \")[1]\n",
    "        text_panel.value = (text_panel.value).split(\"Longitude: \")[0] + \"Longitude: \" + str(round((self._df).iloc[[len(self._df)-1]][\"longitude\"].values[0], 4)) + \"</li><li>Altitude: \" + (text_panel.value).split(\"</li><li>Altitude: \")[1]\n",
    "        text_panel.value = (text_panel.value).split(\"Altitude: \")[0] + \"Altitude: \" + str(round((self._df).iloc[[len(self._df)-1]][\"altitude\"].values[0], 4)) + \"</li><li>Speed: \" + (text_panel.value).split(\"</li><li>Speed: \")[1]\n",
    "        text_panel.value = (text_panel.value).split(\"Speed: \")[0] + \"Speed: \" + str(round((self._df).iloc[[len(self._df)-1]][\"speed\"].values[0], 4)) + \"</li><li>Pressure: \" + (text_panel.value).split(\"</li><li>Pressure: \")[1]\n",
    "        text_panel.value = (text_panel.value).split(\"Pressure: \")[0] + \"Pressure: \" + str(round((self._df).iloc[[len(self._df)-1]][\"pressure\"].values[0], 4)) + \"</li><li>Temperature: \" + (text_panel.value).split(\"</li><li>Temperature: \")[1]\n",
    "        text_panel.value = (text_panel.value).split(\"Temperature: \")[0] + \"Temperature: \" + str(round((self._df).iloc[[len(self._df)-1]][\"temperature\"].values[0], 4)) + \"</li><li>Relative humidity: \" + (text_panel.value).split(\"</li><li>Relative humidity: \")[1]\n",
    "        text_panel.value = (text_panel.value).split(\"Relative humidity: \")[0] + \"Relative humidity: \" + str(round((self._df).iloc[[len(self._df)-1]][\"relative_humidity\"].values[0], 4)) + \"</ul>\"\n",
    "        self._create_coordinate_layer()\n",
    "        embed_minimal_html('export.html', views=[self._container])\n",
    "\n",
    "# Create text holder and display it\n",
    "text_panel = widgets.HTML(value = \"<ul><li>Number of data: </li><li>Latitude: </li><li>Longitude: </li><li>Altitude: </li><li>Speed: </li><li>Pressure: </li><li>Temperature: </li><li>Relative humidity: </li></ul>\")\n",
    "display(text_panel)\n",
    "\n",
    "# Main part\n",
    "cu = coordinate_updater(start_coordinate)\n",
    "cu.render()\n",
    "\n",
    "# Load new coordinates every few seconds\n",
    "for i in range(10000):\n",
    "#     cu.load_coordinates(\"randomwalk\")\n",
    "    try:\n",
    "        cu.load_coordinates(\"randomwalk2\")\n",
    "    except:\n",
    "        pass\n",
    "    time.sleep(3)"
   ]
  },
  {
   "cell_type": "code",
   "execution_count": null,
   "id": "1b0c9864",
   "metadata": {},
   "outputs": [],
   "source": []
  }
 ],
 "metadata": {
  "kernelspec": {
   "display_name": "Python 3 (ipykernel)",
   "language": "python",
   "name": "python3"
  },
  "language_info": {
   "codemirror_mode": {
    "name": "ipython",
    "version": 3
   },
   "file_extension": ".py",
   "mimetype": "text/x-python",
   "name": "python",
   "nbconvert_exporter": "python",
   "pygments_lexer": "ipython3",
   "version": "3.10.0"
  }
 },
 "nbformat": 4,
 "nbformat_minor": 5
}
